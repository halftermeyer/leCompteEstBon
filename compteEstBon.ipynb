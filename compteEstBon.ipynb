{
 "cells": [
  {
   "cell_type": "markdown",
   "metadata": {},
   "source": [
    "# Le compte est bon"
   ]
  },
  {
   "cell_type": "markdown",
   "metadata": {},
   "source": [
    "On cherche une solution optimale à un tirage du *compte est bon*."
   ]
  },
  {
   "cell_type": "markdown",
   "metadata": {},
   "source": [
    "Ce tirage à la forme d'une liste d'entier représentant les cartes tirées, et d'un entier-objectif.\n",
    "Par exemple :\n",
    "```\n",
    "cartes = [100, 75, 150, 75, 5, 7]\n",
    "objectif = 952\n",
    "```"
   ]
  },
  {
   "cell_type": "markdown",
   "metadata": {},
   "source": [
    "## Une stratégie récursive"
   ]
  },
  {
   "cell_type": "markdown",
   "metadata": {},
   "source": [
    "On va considérer tour à tour toutes les bipartitions du multi-ensemble `cartes`. On supposera que pour une bipartition donnée, par exemple $(D, G) = ([100, 75, 5, 7], [75, 150])$, on connait les deux ensembles de nombres calculables $C(D)$ et $C(G)$. On construira à partir de ces deux ensembles et des quatre opérations arithmétiques un nouvel ensemble. "
   ]
  },
  {
   "cell_type": "code",
   "execution_count": 1,
   "metadata": {},
   "outputs": [],
   "source": [
    "# Définition des opérations\n",
    "\n",
    "def montreCalcul(op, x, y, res, cx, cy):\n",
    "    return \"\".join(cx + cy + str(x)+op+str(y)+'='+str(res)+'\\n')\n",
    "\n",
    "# Les opérations sont appliquées à des couples [val, 'calcul']\n",
    "# On met à jour la façon dont le calcul est effectué avec montreCalcul\n",
    "def add(x,y):\n",
    "    return (x[0]+y[0] ,montreCalcul('+',x[0],y[0],x[0]+y[0],x[1],y[1]))\n",
    "def mult(x,y):\n",
    "    return (x[0]*y[0], montreCalcul('*',x[0],y[0],x[0]*y[0],x[1],y[1]))\n",
    "def diff(x,y):\n",
    "    return (x[0]-y[0], montreCalcul('-',x[0],y[0],x[0]-y[0],x[1],y[1])) if x[0]-y[0] >= 0 else None\n",
    "def div(x,y):\n",
    "    return (x[0]//y[0], montreCalcul('/',x[0],y[0],x[0]//y[0],x[1],y[1])) if y[0] != 0 and x[0]%y[0] == 0 else None\n",
    "\n",
    "\n",
    "operations = [add, mult, diff, div]"
   ]
  },
  {
   "cell_type": "code",
   "execution_count": 2,
   "metadata": {},
   "outputs": [],
   "source": [
    "def listeSousListeEtComplement(liste):\n",
    "    \"\"\"\n",
    "    génère toute les bipartitions de la liste sauf les 2 triviales où l'une est vide\n",
    "    afin que la taille de la liste soit strictement décroissante d'un appel récursif à l'autre\n",
    "    \"\"\"\n",
    "    for i in range (2**len(liste))[1:-1]:\n",
    "        preums = []\n",
    "        deuz = []\n",
    "        ## int -> bin str -> list ex ['0', '1', '0', ...] -> [False, True, False, ...]\n",
    "        mask = [True if x == '1' else False for x in list((\"{0:0\"+str(len(liste))+\"b}\").format(i))]\n",
    "        for pick_index in range(len(mask)):\n",
    "            (preums if mask[pick_index] else deuz).append(liste[pick_index])\n",
    "        yield((preums, deuz))"
   ]
  },
  {
   "cell_type": "code",
   "execution_count": 3,
   "metadata": {},
   "outputs": [],
   "source": [
    "def cartesPlusJoli(cartes):\n",
    "    \"transforme la liste d'entier en une liste de [12, 'je prends la carte 12\\n']\"\n",
    "    plusjoli = []\n",
    "    for elem in cartes:\n",
    "        #plusjoli.append((elem, '[' + str(elem)+ ']\\n'))\n",
    "        plusjoli.append((elem, ''))\n",
    "    return plusjoli"
   ]
  },
  {
   "cell_type": "code",
   "execution_count": 4,
   "metadata": {},
   "outputs": [],
   "source": [
    "def memoize_param_to_string_key(f):\n",
    "    \"mémoïzation d'une fonction prenant en entrée une liste\"\n",
    "    memo = {}\n",
    "    def helper(x):\n",
    "        if str(x) not in memo: # on convertit la liste en str car non hashable        \n",
    "            memo[str(x)] = f(x)\n",
    "        return memo[str(x)]\n",
    "    return helper"
   ]
  },
  {
   "cell_type": "code",
   "execution_count": 5,
   "metadata": {},
   "outputs": [],
   "source": [
    "@memoize_param_to_string_key\n",
    "def calculeCalculables(liste):\n",
    "    \"\"\"\n",
    "    calcule récursivement tous les nombres calculables en conservant une manière de le calculer\n",
    "    si la liste est réduite à une carte, la manière de le calculer est triviale,\n",
    "    sinon, on calcule les bipartitions, leurs ensembles calculables récursivements,\n",
    "    et on combine les deux dans une double boucle for pour toutes les opérations + - -' * / /'\n",
    "    \"\"\"\n",
    "    \n",
    "    if len(liste) < 2:\n",
    "        return {x[0]: x[1] for x in liste}\n",
    "    \n",
    "    possibles = {}\n",
    "    \n",
    "    for sousListes in [(calculeCalculables(x[0]), calculeCalculables(x[1]))\n",
    "                       for x in listeSousListeEtComplement(liste)]:\n",
    "        possibles.update(sousListes[0])\n",
    "        possibles.update(sousListes[1])\n",
    "        for k0,v0 in sousListes[0].items(): #k,v\n",
    "            for k1,v1 in sousListes[1].items():\n",
    "                for op in operations:\n",
    "                    tmp = op([k0,v0],[k1,v1])\n",
    "                    if tmp is not None:\n",
    "                        possibles[tmp[0]] = tmp[1]  \n",
    "    \n",
    "    return possibles"
   ]
  },
  {
   "cell_type": "code",
   "execution_count": 6,
   "metadata": {},
   "outputs": [],
   "source": [
    "from math import fabs\n",
    "\n",
    "def meilleur (objectif, calculables):\n",
    "    \"\"\"\n",
    "    propose une solution optimale\n",
    "    retourne la valeur, un calcul et le delta à l'objectif\n",
    "    \"\"\"\n",
    "    best = None\n",
    "    deltaBest = objectif +1\n",
    "    for k in calculables:\n",
    "        delta = fabs(objectif - k)\n",
    "        if delta <  deltaBest:\n",
    "            best = k\n",
    "            deltaBest = delta\n",
    "    return (best, calculables[best], int(deltaBest))\n",
    "            "
   ]
  },
  {
   "cell_type": "code",
   "execution_count": 7,
   "metadata": {},
   "outputs": [],
   "source": [
    "import time\n",
    "def resoudrePartie(cartes, objectif):\n",
    "    debut = time.time()\n",
    "    joliesCartes = cartesPlusJoli(cartes)\n",
    "    calculables = calculeCalculables(joliesCartes)\n",
    "    solution = meilleur (objectif, calculables)\n",
    "    fin = time.time()\n",
    "    return solution, fin-debut"
   ]
  },
  {
   "cell_type": "code",
   "execution_count": 8,
   "metadata": {},
   "outputs": [
    {
     "name": "stdout",
     "output_type": "stream",
     "text": [
      "La meilleure solution trouvée en 22167.52 ms est 652 à ± 0 de l'objectif 652 .\n",
      "Elle peut être obtenue ainsi :\n",
      "8/4=2\n",
      "100-2=98\n",
      "98*7=686\n",
      "686-25=661\n",
      "661-1=660\n",
      "660-8=652\n",
      "\n"
     ]
    }
   ],
   "source": [
    "### partie\n",
    "cartes = [100, 4, 25, 7, 8, 1, 8]\n",
    "objectif = 652\n",
    "\n",
    "### calcul\n",
    "solution, duree = resoudrePartie(cartes, objectif)\n",
    "\n",
    "\n",
    "### réponse\n",
    "\n",
    "print('La meilleure solution trouvée en',\n",
    "       \"%.2f\" % (duree*1000),\n",
    "      'ms est',\n",
    "      solution[0],\n",
    "      'à ±',\n",
    "      solution[2],\n",
    "      \"de l'objectif\",\n",
    "      objectif,\n",
    "      \".\")\n",
    "print('Elle peut être obtenue ainsi :',\n",
    "      solution[1], sep = \"\\n\")\n",
    "    "
   ]
  },
  {
   "cell_type": "code",
   "execution_count": null,
   "metadata": {},
   "outputs": [],
   "source": []
  }
 ],
 "metadata": {
  "kernelspec": {
   "display_name": "Python 3",
   "language": "python",
   "name": "python3"
  },
  "language_info": {
   "codemirror_mode": {
    "name": "ipython",
    "version": 3
   },
   "file_extension": ".py",
   "mimetype": "text/x-python",
   "name": "python",
   "nbconvert_exporter": "python",
   "pygments_lexer": "ipython3",
   "version": "3.6.4"
  }
 },
 "nbformat": 4,
 "nbformat_minor": 2
}
